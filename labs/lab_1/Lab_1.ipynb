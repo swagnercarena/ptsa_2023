{
 "cells": [
  {
   "cell_type": "markdown",
   "id": "46f65f20",
   "metadata": {},
   "source": [
    "# Introduction to jupyter notebooks"
   ]
  },
  {
   "cell_type": "markdown",
   "id": "a635bce6-9c8b-4913-bb66-9df0eab5b2ab",
   "metadata": {},
   "source": [
    "__Overview__: This lab is meant to serve as a gentle introduction to python and jupyter notebooks. I should not take long, but feel free to have fun optimizing the speed of the mean and variance calculation.\n",
    "\n",
    "__Goals__: Students should:\n",
    "1. Have python and jupyter installed.\n",
    "2. Be able to install new python packages using pip.\n",
    "4. Make a plot the displays your data in python.\n",
    "5. Write the code to output some basic statistics."
   ]
  },
  {
   "cell_type": "markdown",
   "id": "b4a24c62-0fb5-441d-b058-d3fb09a66c86",
   "metadata": {},
   "source": [
    "Let's start by loading and plotting our data using numpy as pandas. If you don't have these packages installed you will need to install them using pip (see lab slides)."
   ]
  },
  {
   "cell_type": "code",
   "execution_count": null,
   "id": "fa366d40",
   "metadata": {
    "tags": []
   },
   "outputs": [],
   "source": [
    "import numpy as np\n",
    "import matplotlib.pyplot as plt\n",
    "import pandas as pd"
   ]
  },
  {
   "cell_type": "code",
   "execution_count": null,
   "id": "ecbf56d8",
   "metadata": {
    "tags": []
   },
   "outputs": [],
   "source": [
    "# Extract the time and the signal from the pandas DataFrame and save them.\n",
    "df = pd.read_csv('data.csv')\n",
    "x_time = # Extract time\n",
    "y_signal = #Extract signal"
   ]
  },
  {
   "cell_type": "code",
   "execution_count": null,
   "id": "d1f62b4d",
   "metadata": {
    "tags": []
   },
   "outputs": [],
   "source": [
    "# Use matplotlib to plot the data with time on the x-axis and signal on the y-axis. Make sure to label both axes!\n",
    "raise ValueError('Plot the data!')"
   ]
  },
  {
   "cell_type": "markdown",
   "id": "3ad51596",
   "metadata": {},
   "source": [
    "# Time Series Statistics"
   ]
  },
  {
   "cell_type": "markdown",
   "id": "eda2736b-484d-4e76-a246-78746d0ad0b8",
   "metadata": {},
   "source": [
    "Code up the following two statistics. For a quick solution, numpy is your friend."
   ]
  },
  {
   "cell_type": "code",
   "execution_count": null,
   "id": "3c66b75c",
   "metadata": {
    "tags": []
   },
   "outputs": [],
   "source": [
    "def mean(x):\n",
    "    \"\"\"\n",
    "    Calculates the mean of x\n",
    "    \"\"\"\n",
    "    # YOUR CODE HERE\n",
    "    return \n",
    "\n",
    "def variance(x):\n",
    "    \"\"\"\n",
    "    Calculates the variance of x\n",
    "    \"\"\"\n",
    "    # YOUR CODE HERE\n",
    "    return "
   ]
  },
  {
   "cell_type": "code",
   "execution_count": null,
   "id": "535fc7db",
   "metadata": {
    "tags": []
   },
   "outputs": [],
   "source": [
    "import time\n",
    "t_mean, t_var = 0, 0\n",
    "for i in range(1000):\n",
    "    # Times the mean computation\n",
    "    start_time = time.time()\n",
    "    my_mean = mean(y_signal)\n",
    "    t_mean += time.time() - start_time\n",
    "    true_mean = 0.0\n",
    "    assert np.round(my_mean - true_mean, 6) == 0, \"mean not returning correct value\"\n",
    "    # Times the variance computation\n",
    "    start_time = time.time()\n",
    "    my_var = variance(y_signal)\n",
    "    t_var += time.time() - start_time\n",
    "    true_var = 1.0\n",
    "    assert np.round(my_var - true_var, 6) == 0, \"variance not returning correct value\"\n",
    "\n",
    "print(\"Computing the mean took %s milliseconds on average\" % np.round(t_mean, 3))\n",
    "print(\"Computing the mean took %s milliseconds on average\" % np.round(t_var, 3))"
   ]
  }
 ],
 "metadata": {
  "kernelspec": {
   "display_name": "Python 3 (ipykernel)",
   "language": "python",
   "name": "python3"
  },
  "language_info": {
   "codemirror_mode": {
    "name": "ipython",
    "version": 3
   },
   "file_extension": ".py",
   "mimetype": "text/x-python",
   "name": "python",
   "nbconvert_exporter": "python",
   "pygments_lexer": "ipython3",
   "version": "3.10.10"
  },
  "vscode": {
   "interpreter": {
    "hash": "aee8b7b246df8f9039afb4144a1f6fd8d2ca17a180786b69acc140d282b71a49"
   }
  }
 },
 "nbformat": 4,
 "nbformat_minor": 5
}

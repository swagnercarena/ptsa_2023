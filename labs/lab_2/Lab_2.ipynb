{
 "cells": [
  {
   "cell_type": "markdown",
   "id": "46f65f20",
   "metadata": {},
   "source": [
    "# Building intuition with Gaussians."
   ]
  },
  {
   "cell_type": "markdown",
   "id": "a635bce6-9c8b-4913-bb66-9df0eab5b2ab",
   "metadata": {},
   "source": [
    "__Overview__: This lab is meant to get you more comfortable with numpy (or whatever linear algebra tool you prefer) and start building some intuition for Gaussians and conditional distributions.\n",
    "\n",
    "__Goals__: Students should:\n",
    "1. Be familiar with a linear-algebra capable library (e.g. numpy) and use it to carry out a calculation.\n",
    "2. Understand of multivariate Gaussian distributions.\n",
    "3. Have intuition for how covariances translate to conditional distributions."
   ]
  },
  {
   "cell_type": "markdown",
   "id": "b4a24c62-0fb5-441d-b058-d3fb09a66c86",
   "metadata": {},
   "source": [
    "To start, we're going to focus on three different 2x2 covariance matrices for a multivariate Gaussian and plot the probability densities they correspond to. Let's set our three covariance matrices and mean."
   ]
  },
  {
   "cell_type": "code",
   "execution_count": null,
   "id": "fa366d40",
   "metadata": {
    "tags": []
   },
   "outputs": [],
   "source": [
    "from typing import Tuple\n",
    "\n",
    "import numpy as np\n",
    "import matplotlib.pyplot as plt\n",
    "import time\n",
    "from scipy import stats"
   ]
  },
  {
   "cell_type": "code",
   "execution_count": null,
   "id": "ed150e86-9e13-4d44-8415-b57672022881",
   "metadata": {},
   "outputs": [],
   "source": [
    "mu_all = np.zeros(2)\n",
    "cov_one = np.array([[1.0, 0.5], [0.5, 1.0]])\n",
    "cov_two = np.array([[1.0, 0.0], [0.0, 1.0]])\n",
    "cov_three = np.array([[1.0, -0.5], [-0.5, 1.0]])"
   ]
  },
  {
   "cell_type": "markdown",
   "id": "976aead2-5a58-40a8-94ba-03e2feae956f",
   "metadata": {},
   "source": [
    "Next we'll need a function to evaluate the pdf of a multivariate normal distribution. __You cannot use a library (e.g. scipy) that calculates the pdf for you.__"
   ]
  },
  {
   "cell_type": "code",
   "execution_count": null,
   "id": "9b6a38a5-731e-48e9-a9ea-da12c718d346",
   "metadata": {},
   "outputs": [],
   "source": [
    "def multivariate_gaussian_pdf(x_vec: np.ndarray, mu_vec: np.ndarray, covariance_matrix: np.ndarray) -> float:\n",
    "    \"\"\"\n",
    "    Calculates the probability density function of a multivariate Gaussian.\n",
    "\n",
    "    Args:\n",
    "        x_vec: Vector at which to evaluate the pdf.\n",
    "        mu_vec: Mean of distribution.\n",
    "        covariance_matrix: Covariance matrix of the distribution.\n",
    "\n",
    "    Returns:\n",
    "        Probability density function value at location x_vec.\n",
    "\n",
    "    Notes:\n",
    "        You can use any library you want to carry out the linear algebra operations (determinants, matrix multiplication, \n",
    "        inversion), but you cannot use a library (e.g. scipy) that calculates the pdf for you. The function should work for\n",
    "        any dimension of multivariate Gaussian, not just for the 2-dimensional case. Some functions you may find useful:\n",
    "        - np.linalg.det\n",
    "        - np.linalg.inv\n",
    "        - np.exp\n",
    "        - np.matmul\n",
    "    \"\"\"\n",
    "    # TODO calculate the pdf.\n",
    "    return "
   ]
  },
  {
   "cell_type": "code",
   "execution_count": null,
   "id": "99352189-a440-4818-9cfb-1b2ef5ade27a",
   "metadata": {},
   "outputs": [],
   "source": [
    "test_point = np.array([1.01, 0.22])\n",
    "my_pdf = multivariate_gaussian_pdf(test_point, mu_all, cov_one)\n",
    "scipy_pdf = stats.multivariate_normal.pdf(test_point, mu_all, cov_one)\n",
    "assert np.round(my_pdf - scipy_pdf, 6) == 0, \"The two values do not agree. Did you forget the terms outside the exponential?\""
   ]
  },
  {
   "cell_type": "markdown",
   "id": "6ec32618-f3f2-470a-93bd-51ba3547edb9",
   "metadata": {},
   "source": [
    "How does our timing compare to scipy?"
   ]
  },
  {
   "cell_type": "code",
   "execution_count": null,
   "id": "8e8b944a-7b4e-42d9-a980-a416658b599a",
   "metadata": {},
   "outputs": [],
   "source": [
    "%%timeit\n",
    "multivariate_gaussian_pdf(test_point, mu_all, cov_one)"
   ]
  },
  {
   "cell_type": "code",
   "execution_count": null,
   "id": "f8042ad8-7033-43ee-93a5-95c1f9c59084",
   "metadata": {},
   "outputs": [],
   "source": [
    "%%timeit\n",
    "stats.multivariate_normal.pdf(test_point, mu_all, cov_one)"
   ]
  },
  {
   "cell_type": "markdown",
   "id": "849b19a6-e01a-4992-ae9a-8f5d9ab91bf7",
   "metadata": {},
   "source": [
    "Let's use matplotlib's contour visualization feature to understand our three pdfs."
   ]
  },
  {
   "cell_type": "code",
   "execution_count": null,
   "id": "6aa020d2-4098-4f7b-a28d-49957f495805",
   "metadata": {},
   "outputs": [],
   "source": [
    "# We can use numpy's vectorize capability to vectorize our pdf function.\n",
    "mg_pdf_vectorized = np.vectorize(multivariate_gaussian_pdf, signature='(n), (n), (n,n) -> ()')\n",
    "\n",
    "# We can also use numpy's meshgrid to get the points to evaluate\n",
    "x1_points, x2_points = np.meshgrid(np.linspace(-2,2,100), np.linspace(-2,2,100))\n",
    "x_vec_points = np.stack([x1_points, x2_points], axis=-1)"
   ]
  },
  {
   "cell_type": "code",
   "execution_count": null,
   "id": "2c47312d-7f74-456f-8f2b-88b740109e16",
   "metadata": {},
   "outputs": [],
   "source": [
    "def plot_pdf_and_covariance(covariance_matrix:np.ndarray, color='black'):\n",
    "    # Use the vectorized function to evaluate the pdf.\n",
    "    pdf_evaluations = mg_pdf_vectorized(x_vec_points, mu_all, covariance_matrix)\n",
    "    \n",
    "    fig, ax = plt.subplots(1, 2, figsize=(10,5))\n",
    "    ax[0].contour(x1_points, x2_points, pdf_evaluations/np.max(pdf_evaluations), levels=[ np.exp(-1),np.exp(-0.5)], \n",
    "                  colors=color, linewidths=3)\n",
    "    ax[0].set_xlabel(r'$x_1$')\n",
    "    ax[0].set_ylabel(r'$x_2$')\n",
    "    ax[0].set_title('pdf')\n",
    "    ax[1].imshow(covariance_matrix, cmap='bwr', vmax=1, vmin=-1)\n",
    "    ax[1].set_xticks([0,1])\n",
    "    ax[1].set_xticklabels([r'$x_1$',r'$x_2$'])\n",
    "    ax[1].set_yticks([0,1])\n",
    "    ax[1].set_yticklabels([r'$x_1$',r'$x_2$'])\n",
    "    ax[1].set_title('Covariance Matrix')\n",
    "\n",
    "    for x_1 in range(2):\n",
    "        for x_2 in range(2):\n",
    "            ax[1].text(x_1, x_2, covariance_matrix[x_1, x_2], fontsize=20, ha='center', va='center')\n",
    "    \n",
    "    plt.show()\n",
    "\n",
    "plot_pdf_and_covariance(cov_one, '#1b9e77')\n",
    "plot_pdf_and_covariance(cov_two, '#d95f02')\n",
    "plot_pdf_and_covariance(cov_three, '#7570b3')"
   ]
  },
  {
   "cell_type": "markdown",
   "id": "2fa7e638-f37f-4fe9-a7b6-68dd64f154a0",
   "metadata": {},
   "source": [
    "Now let's see how conditioning on a specific variable of our multivariate Gaussian changes our distribution. Let's start by writing down the conditioned mean and covariance matrix from class. To keep things simple, we'll just condition on a single variable."
   ]
  },
  {
   "cell_type": "code",
   "execution_count": null,
   "id": "41edcfe0-5518-43b9-bde8-26a593f59497",
   "metadata": {},
   "outputs": [],
   "source": [
    "def marginal_mean_covariance(mu_vec: np.ndarray, covariance_matrix: np.ndarray, marginal_index:int) -> Tuple[np.ndarray, np.ndarray]:\n",
    "    \"\"\"\n",
    "    Calculates the marginalized mean and covariance matrix of a multivariate Gaussian.\n",
    "\n",
    "    Args:\n",
    "        mu_vec: Mean of distribution.\n",
    "        covariance_matrix: Covariance matrix of the distribution.\n",
    "        marginal_index: Variable index to marginalize on.\n",
    "\n",
    "    Returns:\n",
    "        Mean and covariance of marginalized Gaussian.\n",
    "\n",
    "    Notes:\n",
    "        The easiest way to do this is to permute the vector and matrix so that the condition_index is the last index.\n",
    "        Some functions you may find useful beyond the ones you've \n",
    "        already used:\n",
    "        - np.delete\n",
    "    \"\"\"\n",
    "    # TODO calculate the mean and covariance.\n",
    "\n",
    "    return\n",
    "\n",
    "def conditioned_mean_covariance(mu_vec: np.ndarray, covariance_matrix: np.ndarray, condition_index:int, \n",
    "                                condition_value:float) -> Tuple[np.ndarray, np.ndarray]:\n",
    "    \"\"\"\n",
    "    Calculates the conditioned mean and covariance matrix of a multivariate Gaussian.\n",
    "\n",
    "    Args:\n",
    "        mu_vec: Mean of distribution.\n",
    "        covariance_matrix: Covariance matrix of the distribution.\n",
    "        conditioned_index: Variable index to condition on.\n",
    "        conditioned_value: Value of the variable to condition on.\n",
    "\n",
    "    Returns:\n",
    "        Mean and covariance of conditioned Gaussian.\n",
    "\n",
    "    Notes:\n",
    "        The easiest way to do this is to permute the vector and matrix so that the condition_index is the last index. \n",
    "        Some functions you may find useful beyond the ones you've \n",
    "        already used:\n",
    "        - np.delete\n",
    "        - np.squeeze\n",
    "    \"\"\"\n",
    "    # TODO calculate the mean and covariance.\n",
    "\n",
    "    return\n",
    "\n",
    "def conditioned_gaussian_pdf(x_vec: np.ndarray, mu_vec: np.ndarray, covariance_matrix: np.ndarray,\n",
    "                             condition_index:int, condition_value:float) -> float:\n",
    "    \"\"\"\n",
    "    Calculates the conditioned probability density function of a multivariate Gaussian.\n",
    "\n",
    "    Args:\n",
    "        x_vec: Vector at which to evaluate the pdf.\n",
    "        mu_vec: Mean of distribution.\n",
    "        covariance_matrix: Covariance matrix of the distribution.\n",
    "        conditioned_index: Variable index to condition on.\n",
    "        conditioned_value: Value of the variable to condition on.\n",
    "\n",
    "    Returns:\n",
    "        Probability density function value at location x_vec.\n",
    "    \"\"\"\n",
    "    mu_cond, cov_cond = conditioned_mean_covariance(mu_vec, covariance_matrix, condition_index, condition_value)\n",
    "\n",
    "    return multivariate_gaussian_pdf(x_vec, mu_cond, cov_cond)\n",
    "\n",
    "def marginal_gaussian_pdf(x_vec: np.ndarray, mu_vec: np.ndarray, covariance_matrix: np.ndarray,\n",
    "                             marginal_index:int) -> float:\n",
    "    \"\"\"\n",
    "    Calculates the marginalized probability density function of a multivariate Gaussian.\n",
    "\n",
    "    Args:\n",
    "        x_vec: Vector at which to evaluate the pdf.\n",
    "        mu_vec: Mean of distribution.\n",
    "        covariance_matrix: Covariance matrix of the distribution.\n",
    "        marginal_index: Variable index to marginalize on.\n",
    "\n",
    "    Returns:\n",
    "        Probability density function value at location x_vec.\n",
    "    \"\"\"\n",
    "    mu_marg, cov_marg = marginal_mean_covariance(mu_vec, covariance_matrix, marginal_index)\n",
    "\n",
    "    return multivariate_gaussian_pdf(x_vec, mu_marg, cov_marg)"
   ]
  },
  {
   "cell_type": "code",
   "execution_count": null,
   "id": "991f6901-c7ec-4403-8717-de74f564b91d",
   "metadata": {},
   "outputs": [],
   "source": [
    "# Let's test our functions to make sure they give the right values.\n",
    "# Test the marginal\n",
    "mu_four = np.array([0.2, 0.3, -0.2])\n",
    "cov_four = np.array([[1.0, 0.5, 0.2],[0.5, 1.0, 0.5], [0.2, 0.5, 1.0]])\n",
    "my_mean, my_covariance = marginal_mean_covariance(mu_four, cov_four, marginal_index=1)\n",
    "correct_mean, correct_covariance = (np.array([0.2, -0.2]), np.array([[1.0, 0.2],[0.2, 1.0]]))\n",
    "np.testing.assert_array_almost_equal(my_mean, correct_mean)\n",
    "np.testing.assert_array_almost_equal(my_covariance, correct_covariance)\n",
    "\n",
    "# Test the conditional\n",
    "my_mean, my_covariance = conditioned_mean_covariance(mu_four, cov_four, condition_index=1, condition_value=1.3)\n",
    "correct_mean, correct_covariance = (np.array([0.7, 0.3]), np.array([[0.75, -0.05],[-0.05, 0.75]]))\n",
    "np.testing.assert_array_almost_equal(my_mean, correct_mean)\n",
    "np.testing.assert_array_almost_equal(my_covariance, correct_covariance)"
   ]
  },
  {
   "cell_type": "markdown",
   "id": "06740158-74c4-4988-8ef2-0153fe4960ec",
   "metadata": {},
   "source": [
    "Let's consider our three-dimensional covariance matrix and see how marginalizing changes the distribution."
   ]
  },
  {
   "cell_type": "code",
   "execution_count": null,
   "id": "ef979aac-e07e-4f18-8a7a-932c502efcb8",
   "metadata": {},
   "outputs": [],
   "source": [
    "fig, ax = plt.subplots(1, 1, figsize=(10,5))\n",
    "ax.imshow(cov_four, cmap='bwr', vmax=1, vmin=-1)\n",
    "ax.set_xticks([0,1,2])\n",
    "ax.set_xticklabels([r'$x_1$',r'$x_2$',r'$x_3$'])\n",
    "ax.set_yticks([0,1,2])\n",
    "ax.set_yticklabels([r'$x_1$',r'$x_2$',r'$x_3$'])\n",
    "ax.set_title('Covariance Matrix')\n",
    "\n",
    "for x_1 in range(3):\n",
    "    for x_2 in range(3):\n",
    "        ax.text(x_1, x_2, cov_four[x_1, x_2], fontsize=20, ha='center', va='center')\n",
    "\n",
    "fig, ax = plt.subplots(1, 1, figsize=(10,5))\n",
    "_, cov_marg_x_three = conditioned_mean_covariance(mu_four, cov_four, condition_index=2, condition_value=0.0)\n",
    "ax.imshow(cov_marg_x_three, cmap='bwr', vmax=1, vmin=-1)\n",
    "ax.set_xticks([0,1])\n",
    "ax.set_xticklabels([r'$x_1$',r'$x_2$'])\n",
    "ax.set_yticks([0,1])\n",
    "ax.set_yticklabels([r'$x_1$',r'$x_2$'])\n",
    "ax.set_title(r'Covariance Matrix Marginalized over $x_3$')\n",
    "\n",
    "for x_1 in range(2):\n",
    "    for x_2 in range(2):\n",
    "        ax.text(x_1, x_2, cov_four[x_1, x_2], fontsize=20, ha='center', va='center')\n",
    "\n",
    "plt.show()"
   ]
  },
  {
   "cell_type": "markdown",
   "id": "0a08227c-0d6d-446c-9d38-4cbf1560e2c2",
   "metadata": {},
   "source": [
    "Stop for a second and think about what you expect when you condition on $x_2$. First, if we condition on a large positive value of $x_2$, how should that change the means of $x_1$ and $x_3$. Second, if we condition on $x_2$, should $x_1$ and $x_3$ become more strongly correlated or anti-correlated?"
   ]
  },
  {
   "cell_type": "code",
   "execution_count": null,
   "id": "20aacf1e-83a6-430c-9f77-d33c8d40c682",
   "metadata": {},
   "outputs": [],
   "source": [
    "# TODO: think about it, then write your guess here. You won't be graded on your guess being correct.\n",
    "assert False"
   ]
  },
  {
   "cell_type": "code",
   "execution_count": null,
   "id": "f57a6dff-2321-47aa-9d54-9e1aea1cf619",
   "metadata": {},
   "outputs": [],
   "source": [
    "# We can use numpy's vectorize capability to vectorize our pdf function.\n",
    "mg_pdf_vectorized = np.vectorize(marginal_gaussian_pdf, signature='(n), (m), (m,m), () -> ()')\n",
    "cg_pdf_vectorized = np.vectorize(conditioned_gaussian_pdf, signature='(n), (m), (m,m), (), () -> ()')\n",
    "\n",
    "# We can also use numpy's meshgrid to get the points to evaluate\n",
    "x1_points, x3_points = np.meshgrid(np.linspace(-3,3,100), np.linspace(-3,3,100))\n",
    "x_vec_points = np.stack([x1_points, x3_points], axis=-1)"
   ]
  },
  {
   "cell_type": "code",
   "execution_count": null,
   "id": "cc2b0050-29cf-4110-a423-197bb0854f6e",
   "metadata": {},
   "outputs": [],
   "source": [
    "def plot_pdf_and_covariance(conditional_index:int, conditional_value:float):\n",
    "\n",
    "    # Use the vectorized pdf evaluation. Keep this in mind for your projects in the future!\n",
    "    marginal_evaluations = mg_pdf_vectorized(x_vec_points, mu_four, cov_four, marginal_index=conditional_index)\n",
    "    conditional_evaluations = cg_pdf_vectorized(x_vec_points, mu_four, cov_four, conditional_index, conditional_value)\n",
    "    \n",
    "    fig, ax = plt.subplots(1, 3, figsize=(15,5))\n",
    "    ax[0].contour(x1_points, x3_points, marginal_evaluations/np.max(marginal_evaluations), levels=[ np.exp(-1),np.exp(-0.5)], \n",
    "                  colors='#7fcdbb', linewidths=3)\n",
    "    ax[0].contour(x1_points, x3_points, conditional_evaluations/np.max(conditional_evaluations), levels=[ np.exp(-1),np.exp(-0.5)], \n",
    "                  colors='#2c7fb8', linewidths=3)\n",
    "    ax[0].set_xlabel(r'$x_1$')\n",
    "    ax[0].set_ylabel(r'$x_3$')\n",
    "    ax[0].set_title('pdf')\n",
    "\n",
    "    _, cov_marginal = marginal_mean_covariance(mu_four, cov_four, marginal_index=conditional_index)\n",
    "    ax[1].imshow(cov_marginal, cmap='bwr', vmax=1, vmin=-1)\n",
    "    ax[1].set_xticks([0,1])\n",
    "    ax[1].set_xticklabels([r'$x_1$',r'$x_3$'])\n",
    "    ax[1].set_yticks([0,1])\n",
    "    ax[1].set_yticklabels([r'$x_1$',r'$x_3$'])\n",
    "    ax[1].set_title('Covariance Matrix')\n",
    "    for x_1 in range(2):\n",
    "        for x_3 in range(2):\n",
    "            ax[1].text(x_1, x_3, cov_marginal[x_1, x_3], fontsize=20, ha='center', va='center')\n",
    "\n",
    "    ax[1].text(0.5, -0.8, r'$x_2$ has conditional value ' + f'{conditional_value}', fontsize=20, ha='center', va='center')\n",
    "\n",
    "    _, cov_conditional = conditioned_mean_covariance(mu_four, cov_four, conditional_index, conditional_value)\n",
    "    ax[2].imshow(cov_conditional, cmap='bwr', vmax=1, vmin=-1)\n",
    "    ax[2].set_xticks([0,1])\n",
    "    ax[2].set_xticklabels([r'$x_1$',r'$x_3$'])\n",
    "    ax[2].set_yticks([0,1])\n",
    "    ax[2].set_yticklabels([r'$x_1$',r'$x_3$'])\n",
    "    ax[2].set_title('Covariance Matrix')\n",
    "    for x_1 in range(2):\n",
    "        for x_3 in range(2):\n",
    "            ax[2].text(x_1, x_3, np.round(cov_conditional[x_1, x_3],2), fontsize=20, ha='center', va='center')\n",
    "    \n",
    "    plt.show()\n",
    "\n",
    "plot_pdf_and_covariance(1, 1.6)\n",
    "plot_pdf_and_covariance(1, 0.3)\n",
    "plot_pdf_and_covariance(1, -1.0)"
   ]
  },
  {
   "cell_type": "code",
   "execution_count": null,
   "id": "c7c12059-5108-4564-a96b-87344431d7d0",
   "metadata": {},
   "outputs": [],
   "source": []
  }
 ],
 "metadata": {
  "kernelspec": {
   "display_name": "Python 3 (ipykernel)",
   "language": "python",
   "name": "python3"
  },
  "language_info": {
   "codemirror_mode": {
    "name": "ipython",
    "version": 3
   },
   "file_extension": ".py",
   "mimetype": "text/x-python",
   "name": "python",
   "nbconvert_exporter": "python",
   "pygments_lexer": "ipython3",
   "version": "3.11.5"
  },
  "vscode": {
   "interpreter": {
    "hash": "aee8b7b246df8f9039afb4144a1f6fd8d2ca17a180786b69acc140d282b71a49"
   }
  }
 },
 "nbformat": 4,
 "nbformat_minor": 5
}
